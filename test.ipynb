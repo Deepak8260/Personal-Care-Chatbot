{
 "cells": [
  {
   "cell_type": "code",
   "execution_count": 1,
   "id": "b8dca708",
   "metadata": {},
   "outputs": [
    {
     "name": "stdout",
     "output_type": "stream",
     "text": [
      "Requirement already satisfied: python-dotenv in c:\\users\\kumar\\appdata\\local\\programs\\python\\python310\\lib\\site-packages (1.1.1)\n",
      "Collecting psycopg2\n",
      "  Downloading psycopg2-2.9.11-cp310-cp310-win_amd64.whl (2.7 MB)\n",
      "Installing collected packages: psycopg2\n",
      "Successfully installed psycopg2-2.9.11\n",
      "Note: you may need to restart the kernel to use updated packages.\n"
     ]
    },
    {
     "name": "stderr",
     "output_type": "stream",
     "text": [
      "WARNING: You are using pip version 21.2.3; however, version 25.2 is available.\n",
      "You should consider upgrading via the 'c:\\Users\\kumar\\AppData\\Local\\Programs\\Python\\Python310\\python.exe -m pip install --upgrade pip' command.\n"
     ]
    }
   ],
   "source": [
    "%pip install python-dotenv psycopg2"
   ]
  },
  {
   "cell_type": "code",
   "execution_count": 2,
   "id": "88fcaf90",
   "metadata": {},
   "outputs": [
    {
     "name": "stdout",
     "output_type": "stream",
     "text": [
      "Connection successful! Supabase credentials validated.\n"
     ]
    }
   ],
   "source": [
    "import os\n",
    "import psycopg2\n",
    "from dotenv import load_dotenv\n",
    "# ... (other imports)\n",
    "\n",
    "# load_dotenv()\n",
    "\n",
    "# USER=os.getenv(\"USER\")\n",
    "# PASSWORD=os.getenv(\"PASSWORD\")\n",
    "# HOST=os.getenv(\"HOST\")\n",
    "# PORT=5432\n",
    "# DBNAME=os.getenv(\"DBNAME\")\n",
    "\n",
    "USER=\"postgres\" \n",
    "PASSWORD = \"itspgpassword@2025\"\n",
    "HOST = \"db.kcsdqmtsdasqlancgygk.supabase.co\" # Use the correct format here\n",
    "PORT=\"5432\"\n",
    "DBNAME = \"postgres\"\n",
    "\n",
    "\n",
    "\n",
    "# Connect to the database\n",
    "try:\n",
    "    connection = psycopg2.connect(\n",
    "        user=USER,\n",
    "        password=PASSWORD,\n",
    "        host=HOST,\n",
    "        port=PORT,\n",
    "        dbname=DBNAME,\n",
    "        sslmode='require' \n",
    "    )\n",
    "    print(\"Connection successful! Supabase credentials validated.\")\n",
    "\n",
    "except Exception as e:\n",
    "    # If this fails, the issue is still a typo in HOST or a network firewall blocking port 5432.\n",
    "    print(f\"Failed to connect: {e}\")"
   ]
  },
  {
   "cell_type": "code",
   "execution_count": 3,
   "id": "e4f2cf29",
   "metadata": {},
   "outputs": [],
   "source": [
    "cur = connection.cursor()"
   ]
  },
  {
   "cell_type": "code",
   "execution_count": 4,
   "id": "5e49ab52",
   "metadata": {},
   "outputs": [],
   "source": [
    "QUERY = \"SELECT product_name, price, category FROM product_details LIMIT 3;\" \n",
    "    \n",
    "# 3. Execute the query\n",
    "cur.execute(QUERY)\n",
    "# 4. Fetch all results\n",
    "results = cur.fetchall()"
   ]
  },
  {
   "cell_type": "code",
   "execution_count": 5,
   "id": "d986d99c",
   "metadata": {},
   "outputs": [
    {
     "data": {
      "text/plain": [
       "[(\"Care Cosmetics Care's Antidandruff shampoo with Punica Granatum Peel Extract - 100ml -Pack of 2\",\n",
       "  '257',\n",
       "  'Personal Care'),\n",
       " ('Care Cosmetics Apple Day Cream with Apple juice to improve skin complexion - 50gm - Pack of 2',\n",
       "  '386',\n",
       "  'Personal Care'),\n",
       " (\"Care Cosmetics Care's Chicknut Face Pack with Chikoo for sensitive skin - 60gm - Pack of 2\",\n",
       "  '460',\n",
       "  'Personal Care')]"
      ]
     },
     "execution_count": 5,
     "metadata": {},
     "output_type": "execute_result"
    }
   ],
   "source": [
    "results"
   ]
  },
  {
   "cell_type": "code",
   "execution_count": 6,
   "id": "85f88dd7",
   "metadata": {},
   "outputs": [],
   "source": [
    "connection.commit()"
   ]
  },
  {
   "cell_type": "code",
   "execution_count": 7,
   "id": "0a8102b9",
   "metadata": {},
   "outputs": [],
   "source": [
    "connection.rollback()"
   ]
  },
  {
   "cell_type": "code",
   "execution_count": 8,
   "id": "090d2b90",
   "metadata": {},
   "outputs": [
    {
     "data": {
      "text/plain": [
       "[(1,\n",
       "  \"Care Cosmetics Care's Antidandruff shampoo with Punica Granatum Peel Extract - 100ml -Pack of 2\",\n",
       "  'Personal Care',\n",
       "  '257',\n",
       "  'N/A',\n",
       "  'yes'),\n",
       " (2,\n",
       "  'Care Cosmetics Apple Day Cream with Apple juice to improve skin complexion - 50gm - Pack of 2',\n",
       "  'Personal Care',\n",
       "  '386',\n",
       "  'N/A',\n",
       "  'no'),\n",
       " (3,\n",
       "  \"Care Cosmetics Care's Chicknut Face Pack with Chikoo for sensitive skin - 60gm - Pack of 2\",\n",
       "  'Personal Care',\n",
       "  '460',\n",
       "  'N/A',\n",
       "  'yes')]"
      ]
     },
     "execution_count": 8,
     "metadata": {},
     "output_type": "execute_result"
    }
   ],
   "source": [
    "cur.execute(\"select id,product_name,category,price,rating,available from product_details LIMIT 3;\")\n",
    "results = cur.fetchall()\n",
    "connection.commit()\n",
    "results"
   ]
  },
  {
   "cell_type": "code",
   "execution_count": 9,
   "id": "a12ed0dc",
   "metadata": {},
   "outputs": [
    {
     "data": {
      "text/plain": [
       "tuple"
      ]
     },
     "execution_count": 9,
     "metadata": {},
     "output_type": "execute_result"
    }
   ],
   "source": [
    "type(results[0])"
   ]
  },
  {
   "cell_type": "code",
   "execution_count": 10,
   "id": "1b7f362d",
   "metadata": {},
   "outputs": [
    {
     "name": "stdout",
     "output_type": "stream",
     "text": [
      "Requirement already satisfied: langchain in c:\\users\\kumar\\appdata\\local\\programs\\python\\python310\\lib\\site-packages (0.3.27)\n",
      "Requirement already satisfied: langchain-google-genai in c:\\users\\kumar\\appdata\\local\\programs\\python\\python310\\lib\\site-packages (2.1.12)\n",
      "Requirement already satisfied: langchain-community in c:\\users\\kumar\\appdata\\local\\programs\\python\\python310\\lib\\site-packages (0.3.31)\n",
      "Requirement already satisfied: sqlalchemy in c:\\users\\kumar\\appdata\\local\\programs\\python\\python310\\lib\\site-packages (2.0.44)\n",
      "Requirement already satisfied: python-dotenv in c:\\users\\kumar\\appdata\\local\\programs\\python\\python310\\lib\\site-packages (1.1.1)\n",
      "Requirement already satisfied: async-timeout<5.0.0,>=4.0.0 in c:\\users\\kumar\\appdata\\local\\programs\\python\\python310\\lib\\site-packages (from langchain) (4.0.3)\n",
      "Requirement already satisfied: PyYAML>=5.3 in c:\\users\\kumar\\appdata\\local\\programs\\python\\python310\\lib\\site-packages (from langchain) (6.0.3)\n",
      "Requirement already satisfied: langsmith>=0.1.17 in c:\\users\\kumar\\appdata\\local\\programs\\python\\python310\\lib\\site-packages (from langchain) (0.4.37)\n",
      "Requirement already satisfied: langchain-text-splitters<1.0.0,>=0.3.9 in c:\\users\\kumar\\appdata\\local\\programs\\python\\python310\\lib\\site-packages (from langchain) (0.3.11)\n",
      "Requirement already satisfied: requests<3,>=2 in c:\\users\\kumar\\appdata\\local\\programs\\python\\python310\\lib\\site-packages (from langchain) (2.32.5)\n",
      "Requirement already satisfied: pydantic<3.0.0,>=2.7.4 in c:\\users\\kumar\\appdata\\local\\programs\\python\\python310\\lib\\site-packages (from langchain) (2.11.10)\n",
      "Requirement already satisfied: langchain-core<1.0.0,>=0.3.72 in c:\\users\\kumar\\appdata\\local\\programs\\python\\python310\\lib\\site-packages (from langchain) (0.3.79)\n",
      "Requirement already satisfied: filetype<2,>=1.2 in c:\\users\\kumar\\appdata\\local\\programs\\python\\python310\\lib\\site-packages (from langchain-google-genai) (1.2.0)\n",
      "Requirement already satisfied: google-ai-generativelanguage<1,>=0.7 in c:\\users\\kumar\\appdata\\local\\programs\\python\\python310\\lib\\site-packages (from langchain-google-genai) (0.8.0)\n",
      "Requirement already satisfied: httpx-sse<1.0.0,>=0.4.0 in c:\\users\\kumar\\appdata\\local\\programs\\python\\python310\\lib\\site-packages (from langchain-community) (0.4.3)\n",
      "Requirement already satisfied: dataclasses-json<0.7.0,>=0.6.7 in c:\\users\\kumar\\appdata\\local\\programs\\python\\python310\\lib\\site-packages (from langchain-community) (0.6.7)\n",
      "Requirement already satisfied: aiohttp<4.0.0,>=3.8.3 in c:\\users\\kumar\\appdata\\local\\programs\\python\\python310\\lib\\site-packages (from langchain-community) (3.13.0)\n",
      "Requirement already satisfied: tenacity!=8.4.0,<10.0.0,>=8.1.0 in c:\\users\\kumar\\appdata\\local\\programs\\python\\python310\\lib\\site-packages (from langchain-community) (9.1.2)\n",
      "Requirement already satisfied: numpy>=1.26.2 in c:\\users\\kumar\\appdata\\local\\programs\\python\\python310\\lib\\site-packages (from langchain-community) (2.2.6)\n",
      "Requirement already satisfied: pydantic-settings<3.0.0,>=2.10.1 in c:\\users\\kumar\\appdata\\local\\programs\\python\\python310\\lib\\site-packages (from langchain-community) (2.11.0)\n",
      "Requirement already satisfied: greenlet>=1 in c:\\users\\kumar\\appdata\\local\\programs\\python\\python310\\lib\\site-packages (from sqlalchemy) (3.2.4)\n",
      "Requirement already satisfied: typing-extensions>=4.6.0 in c:\\users\\kumar\\appdata\\roaming\\python\\python310\\site-packages (from sqlalchemy) (4.15.0)\n",
      "Requirement already satisfied: propcache>=0.2.0 in c:\\users\\kumar\\appdata\\local\\programs\\python\\python310\\lib\\site-packages (from aiohttp<4.0.0,>=3.8.3->langchain-community) (0.4.1)\n",
      "Requirement already satisfied: frozenlist>=1.1.1 in c:\\users\\kumar\\appdata\\local\\programs\\python\\python310\\lib\\site-packages (from aiohttp<4.0.0,>=3.8.3->langchain-community) (1.8.0)\n",
      "Requirement already satisfied: aiosignal>=1.4.0 in c:\\users\\kumar\\appdata\\local\\programs\\python\\python310\\lib\\site-packages (from aiohttp<4.0.0,>=3.8.3->langchain-community) (1.4.0)\n",
      "Requirement already satisfied: multidict<7.0,>=4.5 in c:\\users\\kumar\\appdata\\local\\programs\\python\\python310\\lib\\site-packages (from aiohttp<4.0.0,>=3.8.3->langchain-community) (6.7.0)\n",
      "Requirement already satisfied: aiohappyeyeballs>=2.5.0 in c:\\users\\kumar\\appdata\\local\\programs\\python\\python310\\lib\\site-packages (from aiohttp<4.0.0,>=3.8.3->langchain-community) (2.6.1)\n",
      "Requirement already satisfied: attrs>=17.3.0 in c:\\users\\kumar\\appdata\\local\\programs\\python\\python310\\lib\\site-packages (from aiohttp<4.0.0,>=3.8.3->langchain-community) (25.4.0)\n",
      "Requirement already satisfied: yarl<2.0,>=1.17.0 in c:\\users\\kumar\\appdata\\local\\programs\\python\\python310\\lib\\site-packages (from aiohttp<4.0.0,>=3.8.3->langchain-community) (1.22.0)\n",
      "Requirement already satisfied: marshmallow<4.0.0,>=3.18.0 in c:\\users\\kumar\\appdata\\local\\programs\\python\\python310\\lib\\site-packages (from dataclasses-json<0.7.0,>=0.6.7->langchain-community) (3.26.1)\n",
      "Requirement already satisfied: typing-inspect<1,>=0.4.0 in c:\\users\\kumar\\appdata\\local\\programs\\python\\python310\\lib\\site-packages (from dataclasses-json<0.7.0,>=0.6.7->langchain-community) (0.9.0)\n",
      "Requirement already satisfied: grpcio<2.0.0,>=1.33.2 in c:\\users\\kumar\\appdata\\local\\programs\\python\\python310\\lib\\site-packages (from google-ai-generativelanguage<1,>=0.7->langchain-google-genai) (1.75.1)\n",
      "Requirement already satisfied: proto-plus<2.0.0,>=1.22.3 in c:\\users\\kumar\\appdata\\local\\programs\\python\\python310\\lib\\site-packages (from google-ai-generativelanguage<1,>=0.7->langchain-google-genai) (1.26.1)\n",
      "Requirement already satisfied: google-auth!=2.24.0,!=2.25.0,<3.0.0,>=2.14.1 in c:\\users\\kumar\\appdata\\local\\programs\\python\\python310\\lib\\site-packages (from google-ai-generativelanguage<1,>=0.7->langchain-google-genai) (2.41.1)\n",
      "Requirement already satisfied: protobuf!=4.21.0,!=4.21.1,!=4.21.2,!=4.21.3,!=4.21.4,!=4.21.5,<7.0.0,>=3.20.2 in c:\\users\\kumar\\appdata\\local\\programs\\python\\python310\\lib\\site-packages (from google-ai-generativelanguage<1,>=0.7->langchain-google-genai) (6.32.1)\n",
      "Requirement already satisfied: google-api-core[grpc]!=2.0.*,!=2.1.*,!=2.10.*,!=2.2.*,!=2.3.*,!=2.4.*,!=2.5.*,!=2.6.*,!=2.7.*,!=2.8.*,!=2.9.*,<3.0.0,>=1.34.1 in c:\\users\\kumar\\appdata\\local\\programs\\python\\python310\\lib\\site-packages (from google-ai-generativelanguage<1,>=0.7->langchain-google-genai) (2.26.0)\n",
      "Requirement already satisfied: googleapis-common-protos<2.0.0,>=1.56.2 in c:\\users\\kumar\\appdata\\local\\programs\\python\\python310\\lib\\site-packages (from google-api-core[grpc]!=2.0.*,!=2.1.*,!=2.10.*,!=2.2.*,!=2.3.*,!=2.4.*,!=2.5.*,!=2.6.*,!=2.7.*,!=2.8.*,!=2.9.*,<3.0.0,>=1.34.1->google-ai-generativelanguage<1,>=0.7->langchain-google-genai) (1.70.0)\n",
      "Requirement already satisfied: grpcio-status<2.0.0,>=1.33.2 in c:\\users\\kumar\\appdata\\local\\programs\\python\\python310\\lib\\site-packages (from google-api-core[grpc]!=2.0.*,!=2.1.*,!=2.10.*,!=2.2.*,!=2.3.*,!=2.4.*,!=2.5.*,!=2.6.*,!=2.7.*,!=2.8.*,!=2.9.*,<3.0.0,>=1.34.1->google-ai-generativelanguage<1,>=0.7->langchain-google-genai) (1.75.1)\n",
      "Requirement already satisfied: cachetools<7.0,>=2.0.0 in c:\\users\\kumar\\appdata\\local\\programs\\python\\python310\\lib\\site-packages (from google-auth!=2.24.0,!=2.25.0,<3.0.0,>=2.14.1->google-ai-generativelanguage<1,>=0.7->langchain-google-genai) (6.2.0)\n",
      "Requirement already satisfied: rsa<5,>=3.1.4 in c:\\users\\kumar\\appdata\\local\\programs\\python\\python310\\lib\\site-packages (from google-auth!=2.24.0,!=2.25.0,<3.0.0,>=2.14.1->google-ai-generativelanguage<1,>=0.7->langchain-google-genai) (4.9.1)\n",
      "Requirement already satisfied: pyasn1-modules>=0.2.1 in c:\\users\\kumar\\appdata\\local\\programs\\python\\python310\\lib\\site-packages (from google-auth!=2.24.0,!=2.25.0,<3.0.0,>=2.14.1->google-ai-generativelanguage<1,>=0.7->langchain-google-genai) (0.4.2)\n",
      "Requirement already satisfied: packaging<26.0.0,>=23.2.0 in c:\\users\\kumar\\appdata\\local\\programs\\python\\python310\\lib\\site-packages (from langchain-core<1.0.0,>=0.3.72->langchain) (24.2)\n",
      "Requirement already satisfied: jsonpatch<2.0.0,>=1.33.0 in c:\\users\\kumar\\appdata\\local\\programs\\python\\python310\\lib\\site-packages (from langchain-core<1.0.0,>=0.3.72->langchain) (1.33)\n",
      "Requirement already satisfied: jsonpointer>=1.9 in c:\\users\\kumar\\appdata\\local\\programs\\python\\python310\\lib\\site-packages (from jsonpatch<2.0.0,>=1.33.0->langchain-core<1.0.0,>=0.3.72->langchain) (3.0.0)\n",
      "Requirement already satisfied: requests-toolbelt>=1.0.0 in c:\\users\\kumar\\appdata\\local\\programs\\python\\python310\\lib\\site-packages (from langsmith>=0.1.17->langchain) (1.0.0)\n",
      "Requirement already satisfied: orjson>=3.9.14 in c:\\users\\kumar\\appdata\\local\\programs\\python\\python310\\lib\\site-packages (from langsmith>=0.1.17->langchain) (3.11.3)\n",
      "Requirement already satisfied: zstandard>=0.23.0 in c:\\users\\kumar\\appdata\\local\\programs\\python\\python310\\lib\\site-packages (from langsmith>=0.1.17->langchain) (0.25.0)\n",
      "Requirement already satisfied: httpx<1,>=0.23.0 in c:\\users\\kumar\\appdata\\local\\programs\\python\\python310\\lib\\site-packages (from langsmith>=0.1.17->langchain) (0.28.1)\n",
      "Requirement already satisfied: anyio in c:\\users\\kumar\\appdata\\local\\programs\\python\\python310\\lib\\site-packages (from httpx<1,>=0.23.0->langsmith>=0.1.17->langchain) (4.11.0)\n",
      "Requirement already satisfied: certifi in c:\\users\\kumar\\appdata\\local\\programs\\python\\python310\\lib\\site-packages (from httpx<1,>=0.23.0->langsmith>=0.1.17->langchain) (2025.10.5)\n",
      "Requirement already satisfied: httpcore==1.* in c:\\users\\kumar\\appdata\\local\\programs\\python\\python310\\lib\\site-packages (from httpx<1,>=0.23.0->langsmith>=0.1.17->langchain) (1.0.9)\n",
      "Requirement already satisfied: idna in c:\\users\\kumar\\appdata\\local\\programs\\python\\python310\\lib\\site-packages (from httpx<1,>=0.23.0->langsmith>=0.1.17->langchain) (3.10)\n",
      "Requirement already satisfied: h11>=0.16 in c:\\users\\kumar\\appdata\\local\\programs\\python\\python310\\lib\\site-packages (from httpcore==1.*->httpx<1,>=0.23.0->langsmith>=0.1.17->langchain) (0.16.0)\n",
      "Requirement already satisfied: pyasn1<0.7.0,>=0.6.1 in c:\\users\\kumar\\appdata\\local\\programs\\python\\python310\\lib\\site-packages (from pyasn1-modules>=0.2.1->google-auth!=2.24.0,!=2.25.0,<3.0.0,>=2.14.1->google-ai-generativelanguage<1,>=0.7->langchain-google-genai) (0.6.1)\n",
      "Requirement already satisfied: typing-inspection>=0.4.0 in c:\\users\\kumar\\appdata\\local\\programs\\python\\python310\\lib\\site-packages (from pydantic<3.0.0,>=2.7.4->langchain) (0.4.2)\n",
      "Requirement already satisfied: annotated-types>=0.6.0 in c:\\users\\kumar\\appdata\\local\\programs\\python\\python310\\lib\\site-packages (from pydantic<3.0.0,>=2.7.4->langchain) (0.7.0)\n",
      "Requirement already satisfied: pydantic-core==2.33.2 in c:\\users\\kumar\\appdata\\local\\programs\\python\\python310\\lib\\site-packages (from pydantic<3.0.0,>=2.7.4->langchain) (2.33.2)\n",
      "Requirement already satisfied: charset_normalizer<4,>=2 in c:\\users\\kumar\\appdata\\local\\programs\\python\\python310\\lib\\site-packages (from requests<3,>=2->langchain) (3.4.3)\n",
      "Requirement already satisfied: urllib3<3,>=1.21.1 in c:\\users\\kumar\\appdata\\local\\programs\\python\\python310\\lib\\site-packages (from requests<3,>=2->langchain) (2.3.0)\n",
      "Requirement already satisfied: mypy-extensions>=0.3.0 in c:\\users\\kumar\\appdata\\local\\programs\\python\\python310\\lib\\site-packages (from typing-inspect<1,>=0.4.0->dataclasses-json<0.7.0,>=0.6.7->langchain-community) (1.1.0)\n",
      "Requirement already satisfied: sniffio>=1.1 in c:\\users\\kumar\\appdata\\local\\programs\\python\\python310\\lib\\site-packages (from anyio->httpx<1,>=0.23.0->langsmith>=0.1.17->langchain) (1.3.1)\n",
      "Requirement already satisfied: exceptiongroup>=1.0.2 in c:\\users\\kumar\\appdata\\roaming\\python\\python310\\site-packages (from anyio->httpx<1,>=0.23.0->langsmith>=0.1.17->langchain) (1.3.0)\n",
      "Note: you may need to restart the kernel to use updated packages.\n"
     ]
    },
    {
     "name": "stderr",
     "output_type": "stream",
     "text": [
      "WARNING: You are using pip version 21.2.3; however, version 25.2 is available.\n",
      "You should consider upgrading via the 'c:\\Users\\kumar\\AppData\\Local\\Programs\\Python\\Python310\\python.exe -m pip install --upgrade pip' command.\n"
     ]
    }
   ],
   "source": [
    "%pip install langchain langchain-google-genai langchain-community sqlalchemy python-dotenv"
   ]
  },
  {
   "cell_type": "code",
   "execution_count": null,
   "id": "fd1ba4be",
   "metadata": {},
   "outputs": [
    {
     "name": "stderr",
     "output_type": "stream",
     "text": [
      "c:\\Users\\kumar\\AppData\\Local\\Programs\\Python\\Python310\\lib\\site-packages\\tqdm\\auto.py:21: TqdmWarning: IProgress not found. Please update jupyter and ipywidgets. See https://ipywidgets.readthedocs.io/en/stable/user_install.html\n",
      "  from .autonotebook import tqdm as notebook_tqdm\n"
     ]
    }
   ],
   "source": [
    "# Install necessary packages if not already installed\n",
    "# Uncomment if needed:\n",
    "# !pip install langchain langchain-google-genai langchain-community sqlalchemy python-dotenv\n",
    "\n",
    "from langchain_google_genai import ChatGoogleGenerativeAI\n",
    "from langchain_community.utilities import SQLDatabase\n",
    "from langchain_community.agent_toolkits import create_sql_agent\n",
    "from langchain.agents.agent_types import AgentType\n",
    "from sqlalchemy import create_engine\n",
    "import os\n",
    "from dotenv import load_dotenv"
   ]
  },
  {
   "cell_type": "code",
   "execution_count": null,
   "id": "c3241b88",
   "metadata": {},
   "outputs": [],
   "source": [
    "# --- Load environment variables (optional if using .env) ---\n",
    "load_dotenv()\n",
    "\n",
    "GEMINI_API_KEY = os.getenv(\"GEMINI_API_KEY\")\n",
    "SUPABASE_DB_URL = os.getenv(\"SUPABASE_DB_URL\")"
   ]
  },
  {
   "cell_type": "code",
   "execution_count": 13,
   "id": "63c1525d",
   "metadata": {},
   "outputs": [],
   "source": [
    "# --- Initialize the Gemini model ---\n",
    "llm = ChatGoogleGenerativeAI(\n",
    "    model=\"gemini-2.5-flash\",  \n",
    "    api_key=GEMINI_API_KEY,\n",
    "    temperature=0.0\n",
    ")"
   ]
  },
  {
   "cell_type": "code",
   "execution_count": 14,
   "id": "0375d304",
   "metadata": {},
   "outputs": [
    {
     "data": {
      "text/plain": [
       "'Hello! How can I help you today?'"
      ]
     },
     "execution_count": 14,
     "metadata": {},
     "output_type": "execute_result"
    }
   ],
   "source": [
    "llm.invoke(\"Hello\").content"
   ]
  },
  {
   "cell_type": "code",
   "execution_count": 15,
   "metadata": {},
   "outputs": [
    {
     "name": "stdout",
     "output_type": "stream",
     "text": [
      "✅ Database connection successful.\n"
     ]
    }
   ],
   "source": [
    "try:\n",
    "    engine = create_engine(SUPABASE_DB_URL)\n",
    "    db = SQLDatabase(\n",
    "        engine=engine,\n",
    "        include_tables=['product_details']  # only this table for now\n",
    "    )\n",
    "    print(\"✅ Database connection successful.\")\n",
    "except Exception as e:\n",
    "    print(f\"❌ Error connecting to DB: {e}\")\n"
   ]
  },
  {
   "cell_type": "code",
   "execution_count": 16,
   "id": "da9831ff",
   "metadata": {},
   "outputs": [],
   "source": [
    "CUSTOM_SYSTEM_PREFIX = \"\"\"\n",
    "You are a highly skilled Text-to-SQL agent for a personal care products company.\n",
    "You have access to a PostgreSQL database containing product information.\n",
    "Your goal is to accurately convert user questions into executable SQL queries, execute them, and then provide a friendly, conversational answer based on the results.\n",
    "\n",
    "Rules:\n",
    "1. **Always** use the provided database schema (tables: product_details, chat_history).\n",
    "2. For keyword searches, use efficient PostgreSQL filtering methods.\n",
    "3. **NEVER** use INSERT, UPDATE, DELETE, or DROP commands. Only SELECT queries are allowed.\n",
    "4. Limit results to 10 rows maximum.\n",
    "5. If the user asks a non-product question, respond politely without SQL execution.\n",
    "\n",
    "Begin!\n",
    "\"\"\"\n"
   ]
  },
  {
   "cell_type": "code",
   "execution_count": 17,
   "id": "e76d707d",
   "metadata": {},
   "outputs": [
    {
     "name": "stdout",
     "output_type": "stream",
     "text": [
      "✅ Agent successfully created.\n"
     ]
    }
   ],
   "source": [
    "agent_executor = create_sql_agent(\n",
    "    llm=llm,\n",
    "    db=db,\n",
    "    agent_type=AgentType.ZERO_SHOT_REACT_DESCRIPTION,\n",
    "    prefix=CUSTOM_SYSTEM_PREFIX,\n",
    "    verbose=True,\n",
    "    handle_parsing_errors=True\n",
    ")\n",
    "print(\"✅ Agent successfully created.\")"
   ]
  },
  {
   "cell_type": "code",
   "execution_count": 18,
   "id": "9edc30fb",
   "metadata": {},
   "outputs": [],
   "source": [
    "def get_product_info(user_query: str):\n",
    "    \"\"\"Executes Text-to-SQL flow for user queries.\"\"\"\n",
    "    print(f\"\\n--- Processing User Query: '{user_query}' ---\")\n",
    "    try:\n",
    "        response = agent_executor.invoke({\"input\": user_query})\n",
    "        return response['output']\n",
    "    except Exception as e:\n",
    "        return f\"An error occurred during query execution: {e}\"\n"
   ]
  },
  {
   "cell_type": "code",
   "execution_count": 19,
   "id": "3726643c",
   "metadata": {},
   "outputs": [
    {
     "name": "stdout",
     "output_type": "stream",
     "text": [
      "\n",
      "--- Processing User Query: 'whats the benifit of using Medibar Personal Lubricant for Men & Women, Long Lasting Pleasure Lubricant.' ---\n",
      "\n",
      "\n",
      "\u001b[1m> Entering new SQL Agent Executor chain...\u001b[0m\n",
      "\u001b[32;1m\u001b[1;3mAction: sql_db_list_tables\n",
      "Action Input:\u001b[0m\u001b[38;5;200m\u001b[1;3mproduct_details\u001b[0m\u001b[32;1m\u001b[1;3mI need to find the benefits of \"Medibar Personal Lubricant for Men & Women, Long Lasting Pleasure Lubricant\". I will query the `product_details` table for this information.\n",
      "Action: sql_db_schema\n",
      "Action Input: product_details\u001b[0m\u001b[33;1m\u001b[1;3m\n",
      "CREATE TABLE product_details (\n",
      "\tproduct_name TEXT, \n",
      "\tcategory TEXT, \n",
      "\tprice TEXT, \n",
      "\trating TEXT, \n",
      "\timage_url TEXT, \n",
      "\tproduct_url TEXT, \n",
      "\tavailable TEXT, \n",
      "\tid BIGINT GENERATED BY DEFAULT AS IDENTITY (INCREMENT BY 1 START WITH 1 MINVALUE 1 MAXVALUE 9223372036854775807 CACHE 1 NO CYCLE), \n",
      "\tCONSTRAINT product_details_pkey PRIMARY KEY (id), \n",
      "\tCONSTRAINT product_details_id_key UNIQUE NULLS DISTINCT (id)\n",
      ")\n",
      "\n",
      "/*\n",
      "3 rows from product_details table:\n",
      "product_name\tcategory\tprice\trating\timage_url\tproduct_url\tavailable\tid\n",
      "Care Cosmetics Care's Antidandruff shampoo with Punica Granatum Peel Extract - 100ml -Pack of 2\tPersonal Care\t257\tN/A\thttps://rukminim3.flixcart.com/image/546/564/xif0q/shampoo/r/e/m/200-care-s-antidandruff-shampoo-wit\thttps://www.shopsy.in/care-cosmetics-cares-antidandruff-shampoo-with-punica-granatum-peel-extract-10\tyes\t1\n",
      "Care Cosmetics Apple Day Cream with Apple juice to improve skin complexion - 50gm - Pack of 2\tPersonal Care\t386\tN/A\thttps://rukminim3.flixcart.com/image/546/564/xif0q/moisturizer-cream/w/w/q/100-apple-day-cream-with-\thttps://www.shopsy.in/care-cosmetics-apple-day-cream-with-apple-juice-to-improve-skin-complexion-50g\tno\t2\n",
      "Care Cosmetics Care's Chicknut Face Pack with Chikoo for sensitive skin - 60gm - Pack of 2\tPersonal Care\t460\tN/A\thttps://rukminim3.flixcart.com/image/546/564/xif0q/face-pack/g/m/c/120-care-s-chicknut-face-pack-wit\thttps://www.shopsy.in/care-cosmetics-cares-chicknut-face-pack-with-chikoo-for-sensitive-skin-60gm-pa\tyes\t3\n",
      "*/\u001b[0m\n",
      "💬 Chatbot Response:\n",
      "An error occurred during query execution: An output parsing error occurred. In order to pass this error back to the agent and have it try again, pass `handle_parsing_errors=True` to the AgentExecutor. This is the error: Could not parse LLM output: `It looks like the database schema for `product_details` only contains `product_name`, `category`, `price`, `rating`, `image_url`, `product_url`, `available`, and `id`. There isn't a specific column for product benefits.\n",
      "\n",
      "Therefore, I cannot directly tell you the benefits of \"Medibar Personal Lubricant for Men & Women, Long Lasting Pleasure Lubricant\" from the information I have.\n",
      "\n",
      "Would you like me to search for other details about this product, such as its price, category, or availability?`\n",
      "For troubleshooting, visit: https://python.langchain.com/docs/troubleshooting/errors/OUTPUT_PARSING_FAILURE \n"
     ]
    }
   ],
   "source": [
    "user_question_1 = \"whats the benifit of using Medibar Personal Lubricant for Men & Women, Long Lasting Pleasure Lubricant.\"\n",
    "answer_1 = get_product_info(user_question_1)\n",
    "print(f\"\\n💬 Chatbot Response:\\n{answer_1}\")\n"
   ]
  },
  {
   "cell_type": "code",
   "execution_count": 21,
   "id": "b114cb17",
   "metadata": {},
   "outputs": [
    {
     "name": "stdout",
     "output_type": "stream",
     "text": [
      "\n",
      "💬 Chatbot Response:\n",
      "The Medibar Personal Lubricant for Men & Women, Long Lasting Pleasure Lubricant is priced at 221 and falls under the 'Personal Care' category.\n"
     ]
    }
   ],
   "source": [
    "print(f\"\\n💬 Chatbot Response:\\n{answer_1}\")"
   ]
  },
  {
   "cell_type": "code",
   "execution_count": 23,
   "id": "619352fc",
   "metadata": {},
   "outputs": [
    {
     "data": {
      "text/plain": [
       "'Medibar Personal Lubricant, especially with its \"Long Lasting Pleasure\" claim, offers several key benefits for both men and women:\\n\\n1.  **Enhanced Comfort and Reduced Friction:**\\n    *   **Prevents Discomfort:** The primary benefit of any lubricant is to reduce friction during sexual activity. This prevents chafing, irritation, and soreness that can occur due to insufficient natural lubrication.\\n    *   **Smoother Movement:** It allows for more fluid and comfortable movement, making penetration easier and more enjoyable for both partners.\\n\\n2.  **Combats Natural Dryness:**\\n    *   **Addresses Vaginal Dryness:** Many women experience vaginal dryness due to various factors like hormonal changes (menopause, postpartum), certain medications, stress, or even just insufficient arousal. Medibar helps to supplement natural lubrication, making intercourse comfortable and pleasurable again.\\n    *   **For Men:** While less common, some men can also benefit from lubrication, especially during solo play or if their partner experiences dryness.\\n\\n3.  **Prolonged Pleasure and Reduced Interruptions:**\\n    *   **\"Long Lasting\" Advantage:** This is a crucial benefit. Unlike some lubricants that dry out quickly, a long-lasting formula means you won\\'t need to interrupt the moment to reapply. This allows for sustained comfort and pleasure throughout the entire experience.\\n    *   **Maintains Flow:** It helps maintain the rhythm and intimacy without awkward pauses.\\n\\n4.  **Increased Sensation and Enjoyment:**\\n    *   **Focus on Pleasure:** By eliminating discomfort and pain, the lubricant allows both partners to focus entirely on the pleasurable sensations, leading to a more satisfying experience.\\n    *   **Experimentation:** It can make trying new positions or activities (like anal sex, if desired) more comfortable and enjoyable.\\n\\n5.  **Versatility and Compatibility:**\\n    *   **For Solo or Partner Play:** Can be used effectively for masturbation or with a partner.\\n    *   **Toy Friendly:** Most personal lubricants are safe to use with sex toys, enhancing their use. (Always check product specifics for material compatibility, especially with silicone toys).\\n    *   **Condom Compatible:** Assuming it\\'s water-based or silicone-based (most general-purpose lubricants are), it will be safe to use with latex and polyisoprene condoms, adding an extra layer of comfort and safety.\\n\\n6.  **Psychological Benefits:**\\n    *   **Increased Confidence:** Knowing that discomfort won\\'t be an issue can boost confidence and reduce anxiety surrounding sexual activity.\\n    *   **Improved Intimacy:** When physical barriers to pleasure are removed, it can lead to deeper emotional connection and intimacy between partners.\\n\\nIn essence, Medibar Personal Lubricant aims to remove common physical barriers to sexual pleasure, ensuring a more comfortable, enjoyable, and uninterrupted experience for both men and women.'"
      ]
     },
     "execution_count": 23,
     "metadata": {},
     "output_type": "execute_result"
    }
   ],
   "source": [
    "llm.invoke(\"whats the benifit of using Medibar Personal Lubricant for Men & Women, Long Lasting Pleasure Lubricant\").content"
   ]
  }
 ],
 "metadata": {
  "kernelspec": {
   "display_name": "Python 3",
   "language": "python",
   "name": "python3"
  },
  "language_info": {
   "codemirror_mode": {
    "name": "ipython",
    "version": 3
   },
   "file_extension": ".py",
   "mimetype": "text/x-python",
   "name": "python",
   "nbconvert_exporter": "python",
   "pygments_lexer": "ipython3",
   "version": "3.10.0"
  }
 },
 "nbformat": 4,
 "nbformat_minor": 5
}
