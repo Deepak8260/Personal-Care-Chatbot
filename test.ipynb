{
 "cells": [
  {
   "cell_type": "code",
   "execution_count": 1,
   "id": "b8dca708",
   "metadata": {},
   "outputs": [
    {
     "name": "stdout",
     "output_type": "stream",
     "text": [
      "Requirement already satisfied: python-dotenv in c:\\users\\kumar\\appdata\\local\\programs\\python\\python310\\lib\\site-packages (1.1.1)\n",
      "Collecting psycopg2\n",
      "  Downloading psycopg2-2.9.11-cp310-cp310-win_amd64.whl (2.7 MB)\n",
      "Installing collected packages: psycopg2\n",
      "Successfully installed psycopg2-2.9.11\n",
      "Note: you may need to restart the kernel to use updated packages.\n"
     ]
    },
    {
     "name": "stderr",
     "output_type": "stream",
     "text": [
      "WARNING: You are using pip version 21.2.3; however, version 25.2 is available.\n",
      "You should consider upgrading via the 'c:\\Users\\kumar\\AppData\\Local\\Programs\\Python\\Python310\\python.exe -m pip install --upgrade pip' command.\n"
     ]
    }
   ],
   "source": [
    "%pip install python-dotenv psycopg2"
   ]
  },
  {
   "cell_type": "code",
   "execution_count": 2,
   "id": "88fcaf90",
   "metadata": {},
   "outputs": [
    {
     "name": "stdout",
     "output_type": "stream",
     "text": [
      "Connection successful! Supabase credentials validated.\n"
     ]
    }
   ],
   "source": [
    "import os\n",
    "import psycopg2\n",
    "from dotenv import load_dotenv\n",
    "# ... (other imports)\n",
    "\n",
    "# load_dotenv()\n",
    "\n",
    "# USER=os.getenv(\"USER\")\n",
    "# PASSWORD=os.getenv(\"PASSWORD\")\n",
    "# HOST=os.getenv(\"HOST\")\n",
    "# PORT=5432\n",
    "# DBNAME=os.getenv(\"DBNAME\")\n",
    "\n",
    "USER=\"postgres\" \n",
    "PASSWORD = \"itspgpassword@2025\"\n",
    "HOST = \"db.kcsdqmtsdasqlancgygk.supabase.co\" # Use the correct format here\n",
    "PORT=\"5432\"\n",
    "DBNAME = \"postgres\"\n",
    "\n",
    "\n",
    "\n",
    "# Connect to the database\n",
    "try:\n",
    "    connection = psycopg2.connect(\n",
    "        user=USER,\n",
    "        password=PASSWORD,\n",
    "        host=HOST,\n",
    "        port=PORT,\n",
    "        dbname=DBNAME,\n",
    "        sslmode='require' \n",
    "    )\n",
    "    print(\"Connection successful! Supabase credentials validated.\")\n",
    "\n",
    "except Exception as e:\n",
    "    # If this fails, the issue is still a typo in HOST or a network firewall blocking port 5432.\n",
    "    print(f\"Failed to connect: {e}\")"
   ]
  },
  {
   "cell_type": "code",
   "execution_count": 3,
   "id": "e4f2cf29",
   "metadata": {},
   "outputs": [],
   "source": [
    "cur = connection.cursor()"
   ]
  },
  {
   "cell_type": "code",
   "execution_count": 4,
   "id": "5e49ab52",
   "metadata": {},
   "outputs": [],
   "source": [
    "QUERY = \"SELECT product_name, price, category FROM product_details LIMIT 3;\" \n",
    "    \n",
    "# 3. Execute the query\n",
    "cur.execute(QUERY)\n",
    "# 4. Fetch all results\n",
    "results = cur.fetchall()"
   ]
  },
  {
   "cell_type": "code",
   "execution_count": 5,
   "id": "d986d99c",
   "metadata": {},
   "outputs": [
    {
     "data": {
      "text/plain": [
       "[(\"Care Cosmetics Care's Antidandruff shampoo with Punica Granatum Peel Extract - 100ml -Pack of 2\",\n",
       "  '257',\n",
       "  'Personal Care'),\n",
       " ('Care Cosmetics Apple Day Cream with Apple juice to improve skin complexion - 50gm - Pack of 2',\n",
       "  '386',\n",
       "  'Personal Care'),\n",
       " (\"Care Cosmetics Care's Chicknut Face Pack with Chikoo for sensitive skin - 60gm - Pack of 2\",\n",
       "  '460',\n",
       "  'Personal Care')]"
      ]
     },
     "execution_count": 5,
     "metadata": {},
     "output_type": "execute_result"
    }
   ],
   "source": [
    "results"
   ]
  },
  {
   "cell_type": "code",
   "execution_count": 6,
   "id": "85f88dd7",
   "metadata": {},
   "outputs": [],
   "source": [
    "connection.commit()"
   ]
  },
  {
   "cell_type": "code",
   "execution_count": 7,
   "id": "0a8102b9",
   "metadata": {},
   "outputs": [],
   "source": [
    "connection.rollback()"
   ]
  },
  {
   "cell_type": "code",
   "execution_count": 8,
   "id": "090d2b90",
   "metadata": {},
   "outputs": [
    {
     "data": {
      "text/plain": [
       "[(1,\n",
       "  \"Care Cosmetics Care's Antidandruff shampoo with Punica Granatum Peel Extract - 100ml -Pack of 2\",\n",
       "  'Personal Care',\n",
       "  '257',\n",
       "  'N/A',\n",
       "  'yes'),\n",
       " (2,\n",
       "  'Care Cosmetics Apple Day Cream with Apple juice to improve skin complexion - 50gm - Pack of 2',\n",
       "  'Personal Care',\n",
       "  '386',\n",
       "  'N/A',\n",
       "  'no'),\n",
       " (3,\n",
       "  \"Care Cosmetics Care's Chicknut Face Pack with Chikoo for sensitive skin - 60gm - Pack of 2\",\n",
       "  'Personal Care',\n",
       "  '460',\n",
       "  'N/A',\n",
       "  'yes')]"
      ]
     },
     "execution_count": 8,
     "metadata": {},
     "output_type": "execute_result"
    }
   ],
   "source": [
    "cur.execute(\"select id,product_name,category,price,rating,available from product_details LIMIT 3;\")\n",
    "results = cur.fetchall()\n",
    "connection.commit()\n",
    "results"
   ]
  },
  {
   "cell_type": "code",
   "execution_count": 9,
   "id": "a12ed0dc",
   "metadata": {},
   "outputs": [
    {
     "data": {
      "text/plain": [
       "tuple"
      ]
     },
     "execution_count": 9,
     "metadata": {},
     "output_type": "execute_result"
    }
   ],
   "source": [
    "type(results[0])"
   ]
  },
  {
   "cell_type": "code",
   "execution_count": 10,
   "id": "1b7f362d",
   "metadata": {},
   "outputs": [
    {
     "name": "stdout",
     "output_type": "stream",
     "text": [
      "Requirement already satisfied: langchain in c:\\users\\kumar\\appdata\\local\\programs\\python\\python310\\lib\\site-packages (0.3.27)\n",
      "Requirement already satisfied: langchain-google-genai in c:\\users\\kumar\\appdata\\local\\programs\\python\\python310\\lib\\site-packages (2.1.12)\n",
      "Requirement already satisfied: langchain-community in c:\\users\\kumar\\appdata\\local\\programs\\python\\python310\\lib\\site-packages (0.3.31)\n",
      "Requirement already satisfied: sqlalchemy in c:\\users\\kumar\\appdata\\local\\programs\\python\\python310\\lib\\site-packages (2.0.44)\n",
      "Requirement already satisfied: python-dotenv in c:\\users\\kumar\\appdata\\local\\programs\\python\\python310\\lib\\site-packages (1.1.1)\n",
      "Requirement already satisfied: async-timeout<5.0.0,>=4.0.0 in c:\\users\\kumar\\appdata\\local\\programs\\python\\python310\\lib\\site-packages (from langchain) (4.0.3)\n",
      "Requirement already satisfied: PyYAML>=5.3 in c:\\users\\kumar\\appdata\\local\\programs\\python\\python310\\lib\\site-packages (from langchain) (6.0.3)\n",
      "Requirement already satisfied: langsmith>=0.1.17 in c:\\users\\kumar\\appdata\\local\\programs\\python\\python310\\lib\\site-packages (from langchain) (0.4.37)\n",
      "Requirement already satisfied: langchain-text-splitters<1.0.0,>=0.3.9 in c:\\users\\kumar\\appdata\\local\\programs\\python\\python310\\lib\\site-packages (from langchain) (0.3.11)\n",
      "Requirement already satisfied: requests<3,>=2 in c:\\users\\kumar\\appdata\\local\\programs\\python\\python310\\lib\\site-packages (from langchain) (2.32.5)\n",
      "Requirement already satisfied: pydantic<3.0.0,>=2.7.4 in c:\\users\\kumar\\appdata\\local\\programs\\python\\python310\\lib\\site-packages (from langchain) (2.11.10)\n",
      "Requirement already satisfied: langchain-core<1.0.0,>=0.3.72 in c:\\users\\kumar\\appdata\\local\\programs\\python\\python310\\lib\\site-packages (from langchain) (0.3.79)\n",
      "Requirement already satisfied: filetype<2,>=1.2 in c:\\users\\kumar\\appdata\\local\\programs\\python\\python310\\lib\\site-packages (from langchain-google-genai) (1.2.0)\n",
      "Requirement already satisfied: google-ai-generativelanguage<1,>=0.7 in c:\\users\\kumar\\appdata\\local\\programs\\python\\python310\\lib\\site-packages (from langchain-google-genai) (0.8.0)\n",
      "Requirement already satisfied: httpx-sse<1.0.0,>=0.4.0 in c:\\users\\kumar\\appdata\\local\\programs\\python\\python310\\lib\\site-packages (from langchain-community) (0.4.3)\n",
      "Requirement already satisfied: dataclasses-json<0.7.0,>=0.6.7 in c:\\users\\kumar\\appdata\\local\\programs\\python\\python310\\lib\\site-packages (from langchain-community) (0.6.7)\n",
      "Requirement already satisfied: aiohttp<4.0.0,>=3.8.3 in c:\\users\\kumar\\appdata\\local\\programs\\python\\python310\\lib\\site-packages (from langchain-community) (3.13.0)\n",
      "Requirement already satisfied: tenacity!=8.4.0,<10.0.0,>=8.1.0 in c:\\users\\kumar\\appdata\\local\\programs\\python\\python310\\lib\\site-packages (from langchain-community) (9.1.2)\n",
      "Requirement already satisfied: numpy>=1.26.2 in c:\\users\\kumar\\appdata\\local\\programs\\python\\python310\\lib\\site-packages (from langchain-community) (2.2.6)\n",
      "Requirement already satisfied: pydantic-settings<3.0.0,>=2.10.1 in c:\\users\\kumar\\appdata\\local\\programs\\python\\python310\\lib\\site-packages (from langchain-community) (2.11.0)\n",
      "Requirement already satisfied: greenlet>=1 in c:\\users\\kumar\\appdata\\local\\programs\\python\\python310\\lib\\site-packages (from sqlalchemy) (3.2.4)\n",
      "Requirement already satisfied: typing-extensions>=4.6.0 in c:\\users\\kumar\\appdata\\roaming\\python\\python310\\site-packages (from sqlalchemy) (4.15.0)\n",
      "Requirement already satisfied: propcache>=0.2.0 in c:\\users\\kumar\\appdata\\local\\programs\\python\\python310\\lib\\site-packages (from aiohttp<4.0.0,>=3.8.3->langchain-community) (0.4.1)\n",
      "Requirement already satisfied: frozenlist>=1.1.1 in c:\\users\\kumar\\appdata\\local\\programs\\python\\python310\\lib\\site-packages (from aiohttp<4.0.0,>=3.8.3->langchain-community) (1.8.0)\n",
      "Requirement already satisfied: aiosignal>=1.4.0 in c:\\users\\kumar\\appdata\\local\\programs\\python\\python310\\lib\\site-packages (from aiohttp<4.0.0,>=3.8.3->langchain-community) (1.4.0)\n",
      "Requirement already satisfied: multidict<7.0,>=4.5 in c:\\users\\kumar\\appdata\\local\\programs\\python\\python310\\lib\\site-packages (from aiohttp<4.0.0,>=3.8.3->langchain-community) (6.7.0)\n",
      "Requirement already satisfied: aiohappyeyeballs>=2.5.0 in c:\\users\\kumar\\appdata\\local\\programs\\python\\python310\\lib\\site-packages (from aiohttp<4.0.0,>=3.8.3->langchain-community) (2.6.1)\n",
      "Requirement already satisfied: attrs>=17.3.0 in c:\\users\\kumar\\appdata\\local\\programs\\python\\python310\\lib\\site-packages (from aiohttp<4.0.0,>=3.8.3->langchain-community) (25.4.0)\n",
      "Requirement already satisfied: yarl<2.0,>=1.17.0 in c:\\users\\kumar\\appdata\\local\\programs\\python\\python310\\lib\\site-packages (from aiohttp<4.0.0,>=3.8.3->langchain-community) (1.22.0)\n",
      "Requirement already satisfied: marshmallow<4.0.0,>=3.18.0 in c:\\users\\kumar\\appdata\\local\\programs\\python\\python310\\lib\\site-packages (from dataclasses-json<0.7.0,>=0.6.7->langchain-community) (3.26.1)\n",
      "Requirement already satisfied: typing-inspect<1,>=0.4.0 in c:\\users\\kumar\\appdata\\local\\programs\\python\\python310\\lib\\site-packages (from dataclasses-json<0.7.0,>=0.6.7->langchain-community) (0.9.0)\n",
      "Requirement already satisfied: grpcio<2.0.0,>=1.33.2 in c:\\users\\kumar\\appdata\\local\\programs\\python\\python310\\lib\\site-packages (from google-ai-generativelanguage<1,>=0.7->langchain-google-genai) (1.75.1)\n",
      "Requirement already satisfied: proto-plus<2.0.0,>=1.22.3 in c:\\users\\kumar\\appdata\\local\\programs\\python\\python310\\lib\\site-packages (from google-ai-generativelanguage<1,>=0.7->langchain-google-genai) (1.26.1)\n",
      "Requirement already satisfied: google-auth!=2.24.0,!=2.25.0,<3.0.0,>=2.14.1 in c:\\users\\kumar\\appdata\\local\\programs\\python\\python310\\lib\\site-packages (from google-ai-generativelanguage<1,>=0.7->langchain-google-genai) (2.41.1)\n",
      "Requirement already satisfied: protobuf!=4.21.0,!=4.21.1,!=4.21.2,!=4.21.3,!=4.21.4,!=4.21.5,<7.0.0,>=3.20.2 in c:\\users\\kumar\\appdata\\local\\programs\\python\\python310\\lib\\site-packages (from google-ai-generativelanguage<1,>=0.7->langchain-google-genai) (6.32.1)\n",
      "Requirement already satisfied: google-api-core[grpc]!=2.0.*,!=2.1.*,!=2.10.*,!=2.2.*,!=2.3.*,!=2.4.*,!=2.5.*,!=2.6.*,!=2.7.*,!=2.8.*,!=2.9.*,<3.0.0,>=1.34.1 in c:\\users\\kumar\\appdata\\local\\programs\\python\\python310\\lib\\site-packages (from google-ai-generativelanguage<1,>=0.7->langchain-google-genai) (2.26.0)\n",
      "Requirement already satisfied: googleapis-common-protos<2.0.0,>=1.56.2 in c:\\users\\kumar\\appdata\\local\\programs\\python\\python310\\lib\\site-packages (from google-api-core[grpc]!=2.0.*,!=2.1.*,!=2.10.*,!=2.2.*,!=2.3.*,!=2.4.*,!=2.5.*,!=2.6.*,!=2.7.*,!=2.8.*,!=2.9.*,<3.0.0,>=1.34.1->google-ai-generativelanguage<1,>=0.7->langchain-google-genai) (1.70.0)\n",
      "Requirement already satisfied: grpcio-status<2.0.0,>=1.33.2 in c:\\users\\kumar\\appdata\\local\\programs\\python\\python310\\lib\\site-packages (from google-api-core[grpc]!=2.0.*,!=2.1.*,!=2.10.*,!=2.2.*,!=2.3.*,!=2.4.*,!=2.5.*,!=2.6.*,!=2.7.*,!=2.8.*,!=2.9.*,<3.0.0,>=1.34.1->google-ai-generativelanguage<1,>=0.7->langchain-google-genai) (1.75.1)\n",
      "Requirement already satisfied: cachetools<7.0,>=2.0.0 in c:\\users\\kumar\\appdata\\local\\programs\\python\\python310\\lib\\site-packages (from google-auth!=2.24.0,!=2.25.0,<3.0.0,>=2.14.1->google-ai-generativelanguage<1,>=0.7->langchain-google-genai) (6.2.0)\n",
      "Requirement already satisfied: rsa<5,>=3.1.4 in c:\\users\\kumar\\appdata\\local\\programs\\python\\python310\\lib\\site-packages (from google-auth!=2.24.0,!=2.25.0,<3.0.0,>=2.14.1->google-ai-generativelanguage<1,>=0.7->langchain-google-genai) (4.9.1)\n",
      "Requirement already satisfied: pyasn1-modules>=0.2.1 in c:\\users\\kumar\\appdata\\local\\programs\\python\\python310\\lib\\site-packages (from google-auth!=2.24.0,!=2.25.0,<3.0.0,>=2.14.1->google-ai-generativelanguage<1,>=0.7->langchain-google-genai) (0.4.2)\n",
      "Requirement already satisfied: packaging<26.0.0,>=23.2.0 in c:\\users\\kumar\\appdata\\local\\programs\\python\\python310\\lib\\site-packages (from langchain-core<1.0.0,>=0.3.72->langchain) (24.2)\n",
      "Requirement already satisfied: jsonpatch<2.0.0,>=1.33.0 in c:\\users\\kumar\\appdata\\local\\programs\\python\\python310\\lib\\site-packages (from langchain-core<1.0.0,>=0.3.72->langchain) (1.33)\n",
      "Requirement already satisfied: jsonpointer>=1.9 in c:\\users\\kumar\\appdata\\local\\programs\\python\\python310\\lib\\site-packages (from jsonpatch<2.0.0,>=1.33.0->langchain-core<1.0.0,>=0.3.72->langchain) (3.0.0)\n",
      "Requirement already satisfied: requests-toolbelt>=1.0.0 in c:\\users\\kumar\\appdata\\local\\programs\\python\\python310\\lib\\site-packages (from langsmith>=0.1.17->langchain) (1.0.0)\n",
      "Requirement already satisfied: orjson>=3.9.14 in c:\\users\\kumar\\appdata\\local\\programs\\python\\python310\\lib\\site-packages (from langsmith>=0.1.17->langchain) (3.11.3)\n",
      "Requirement already satisfied: zstandard>=0.23.0 in c:\\users\\kumar\\appdata\\local\\programs\\python\\python310\\lib\\site-packages (from langsmith>=0.1.17->langchain) (0.25.0)\n",
      "Requirement already satisfied: httpx<1,>=0.23.0 in c:\\users\\kumar\\appdata\\local\\programs\\python\\python310\\lib\\site-packages (from langsmith>=0.1.17->langchain) (0.28.1)\n",
      "Requirement already satisfied: anyio in c:\\users\\kumar\\appdata\\local\\programs\\python\\python310\\lib\\site-packages (from httpx<1,>=0.23.0->langsmith>=0.1.17->langchain) (4.11.0)\n",
      "Requirement already satisfied: certifi in c:\\users\\kumar\\appdata\\local\\programs\\python\\python310\\lib\\site-packages (from httpx<1,>=0.23.0->langsmith>=0.1.17->langchain) (2025.10.5)\n",
      "Requirement already satisfied: httpcore==1.* in c:\\users\\kumar\\appdata\\local\\programs\\python\\python310\\lib\\site-packages (from httpx<1,>=0.23.0->langsmith>=0.1.17->langchain) (1.0.9)\n",
      "Requirement already satisfied: idna in c:\\users\\kumar\\appdata\\local\\programs\\python\\python310\\lib\\site-packages (from httpx<1,>=0.23.0->langsmith>=0.1.17->langchain) (3.10)\n",
      "Requirement already satisfied: h11>=0.16 in c:\\users\\kumar\\appdata\\local\\programs\\python\\python310\\lib\\site-packages (from httpcore==1.*->httpx<1,>=0.23.0->langsmith>=0.1.17->langchain) (0.16.0)\n",
      "Requirement already satisfied: pyasn1<0.7.0,>=0.6.1 in c:\\users\\kumar\\appdata\\local\\programs\\python\\python310\\lib\\site-packages (from pyasn1-modules>=0.2.1->google-auth!=2.24.0,!=2.25.0,<3.0.0,>=2.14.1->google-ai-generativelanguage<1,>=0.7->langchain-google-genai) (0.6.1)\n",
      "Requirement already satisfied: typing-inspection>=0.4.0 in c:\\users\\kumar\\appdata\\local\\programs\\python\\python310\\lib\\site-packages (from pydantic<3.0.0,>=2.7.4->langchain) (0.4.2)\n",
      "Requirement already satisfied: annotated-types>=0.6.0 in c:\\users\\kumar\\appdata\\local\\programs\\python\\python310\\lib\\site-packages (from pydantic<3.0.0,>=2.7.4->langchain) (0.7.0)\n",
      "Requirement already satisfied: pydantic-core==2.33.2 in c:\\users\\kumar\\appdata\\local\\programs\\python\\python310\\lib\\site-packages (from pydantic<3.0.0,>=2.7.4->langchain) (2.33.2)\n",
      "Requirement already satisfied: charset_normalizer<4,>=2 in c:\\users\\kumar\\appdata\\local\\programs\\python\\python310\\lib\\site-packages (from requests<3,>=2->langchain) (3.4.3)\n",
      "Requirement already satisfied: urllib3<3,>=1.21.1 in c:\\users\\kumar\\appdata\\local\\programs\\python\\python310\\lib\\site-packages (from requests<3,>=2->langchain) (2.3.0)\n",
      "Requirement already satisfied: mypy-extensions>=0.3.0 in c:\\users\\kumar\\appdata\\local\\programs\\python\\python310\\lib\\site-packages (from typing-inspect<1,>=0.4.0->dataclasses-json<0.7.0,>=0.6.7->langchain-community) (1.1.0)\n",
      "Requirement already satisfied: sniffio>=1.1 in c:\\users\\kumar\\appdata\\local\\programs\\python\\python310\\lib\\site-packages (from anyio->httpx<1,>=0.23.0->langsmith>=0.1.17->langchain) (1.3.1)\n",
      "Requirement already satisfied: exceptiongroup>=1.0.2 in c:\\users\\kumar\\appdata\\roaming\\python\\python310\\site-packages (from anyio->httpx<1,>=0.23.0->langsmith>=0.1.17->langchain) (1.3.0)\n",
      "Note: you may need to restart the kernel to use updated packages.\n"
     ]
    },
    {
     "name": "stderr",
     "output_type": "stream",
     "text": [
      "WARNING: You are using pip version 21.2.3; however, version 25.2 is available.\n",
      "You should consider upgrading via the 'c:\\Users\\kumar\\AppData\\Local\\Programs\\Python\\Python310\\python.exe -m pip install --upgrade pip' command.\n"
     ]
    }
   ],
   "source": [
    "%pip install langchain langchain-google-genai langchain-community sqlalchemy python-dotenv"
   ]
  },
  {
   "cell_type": "code",
   "execution_count": 1,
   "id": "fd1ba4be",
   "metadata": {},
   "outputs": [
    {
     "name": "stderr",
     "output_type": "stream",
     "text": [
      "c:\\Users\\kumar\\AppData\\Local\\Programs\\Python\\Python310\\lib\\site-packages\\tqdm\\auto.py:21: TqdmWarning: IProgress not found. Please update jupyter and ipywidgets. See https://ipywidgets.readthedocs.io/en/stable/user_install.html\n",
      "  from .autonotebook import tqdm as notebook_tqdm\n"
     ]
    }
   ],
   "source": [
    "# Install necessary packages if not already installed\n",
    "# Uncomment if needed:\n",
    "# !pip install langchain langchain-google-genai langchain-community sqlalchemy python-dotenv\n",
    "\n",
    "from langchain_google_genai import ChatGoogleGenerativeAI\n",
    "from langchain_community.utilities import SQLDatabase\n",
    "from langchain_community.agent_toolkits import create_sql_agent\n",
    "from langchain.agents.agent_types import AgentType\n",
    "from sqlalchemy import create_engine\n",
    "import os\n",
    "from dotenv import load_dotenv"
   ]
  },
  {
   "cell_type": "code",
   "execution_count": 2,
   "id": "c3241b88",
   "metadata": {},
   "outputs": [],
   "source": [
    "# --- Load environment variables (optional if using .env) ---\n",
    "load_dotenv()\n",
    "\n",
    "GEMINI_API_KEY = os.getenv(\"GEMINI_API_KEY\")\n",
    "SUPABASE_DB_URL = os.getenv(\"SUPABASE_DB_URL\")"
   ]
  },
  {
   "cell_type": "code",
   "execution_count": 3,
   "id": "63c1525d",
   "metadata": {},
   "outputs": [],
   "source": [
    "# --- Initialize the Gemini model ---\n",
    "llm = ChatGoogleGenerativeAI(\n",
    "    model=\"gemini-2.5-flash\",  \n",
    "    api_key=GEMINI_API_KEY,\n",
    "    temperature=0.0\n",
    ")"
   ]
  },
  {
   "cell_type": "code",
   "execution_count": 4,
   "id": "0375d304",
   "metadata": {},
   "outputs": [
    {
     "data": {
      "text/plain": [
       "'Hello! How can I help you today?'"
      ]
     },
     "execution_count": 4,
     "metadata": {},
     "output_type": "execute_result"
    }
   ],
   "source": [
    "llm.invoke(\"Hello\").content"
   ]
  },
  {
   "cell_type": "code",
   "execution_count": 5,
   "metadata": {},
   "outputs": [
    {
     "name": "stdout",
     "output_type": "stream",
     "text": [
      "✅ Database connection successful.\n"
     ]
    }
   ],
   "source": [
    "try:\n",
    "    engine = create_engine(SUPABASE_DB_URL)\n",
    "    db = SQLDatabase(\n",
    "        engine=engine,\n",
    "        include_tables=['product_details']  # only this table for now\n",
    "    )\n",
    "    print(\"✅ Database connection successful.\")\n",
    "except Exception as e:\n",
    "    print(f\"❌ Error connecting to DB: {e}\")\n"
   ]
  },
  {
   "cell_type": "code",
   "execution_count": 6,
   "id": "da9831ff",
   "metadata": {},
   "outputs": [],
   "source": [
    "CUSTOM_SYSTEM_PREFIX = \"\"\"\n",
    "You are an intelligent Text-to-SQL + Knowledge agent for a personal care products company.\n",
    "You have access to a PostgreSQL database that stores structured product information like name, category, price, and availability.\n",
    "\n",
    "Your job is to:\n",
    "1. Convert product-related questions into accurate SQL queries, execute them, and present clear, human-like answers.\n",
    "2. If the product or requested data is NOT found in the database, you must switch to your general world knowledge or perform an internet-style reasoning search to answer naturally — do NOT say that you lack information or cannot answer.\n",
    "3. For example, if a user asks about the **benefits, uses, or effects** of a product that’s not present in the database, give a helpful and factual general response based on your own knowledge or common facts available online.\n",
    "4. Only use the database for factual, structured data (like price, category, stock availability, etc.).\n",
    "5. When switching to general knowledge mode, never generate SQL queries.\n",
    "6. Always be polite, conversational, and confident in your answers.\n",
    "7. Limit database query results to 10 rows maximum.\n",
    "8. Never use INSERT, UPDATE, DELETE, or DROP commands.\n",
    "\n",
    "**Summary of Behavior:**\n",
    "- If the query is about structured product data → Use SQL.\n",
    "- If the query is about general info, benefits, usage, or product advice → Use your internal knowledge or online reasoning.\n",
    "- Never say: “I cannot directly tell you…” or “I don’t have information.”\n",
    "- Always return a friendly, natural-sounding response.\n",
    "\n",
    "Begin!\n",
    "\"\"\"\n",
    "\n"
   ]
  },
  {
   "cell_type": "code",
   "execution_count": 7,
   "id": "e76d707d",
   "metadata": {},
   "outputs": [
    {
     "name": "stdout",
     "output_type": "stream",
     "text": [
      "✅ Agent successfully created.\n"
     ]
    }
   ],
   "source": [
    "agent_executor = create_sql_agent(\n",
    "    llm=llm,\n",
    "    db=db,\n",
    "    agent_type=AgentType.ZERO_SHOT_REACT_DESCRIPTION,\n",
    "    prefix=CUSTOM_SYSTEM_PREFIX,\n",
    "    verbose=True,\n",
    "    handle_parsing_errors=True\n",
    ")\n",
    "print(\"✅ Agent successfully created.\")"
   ]
  },
  {
   "cell_type": "code",
   "execution_count": 8,
   "id": "9edc30fb",
   "metadata": {},
   "outputs": [],
   "source": [
    "def get_product_info(user_query: str):\n",
    "    \"\"\"Executes Text-to-SQL flow for user queries.\"\"\"\n",
    "    print(f\"\\n--- Processing User Query: '{user_query}' ---\")\n",
    "    try:\n",
    "        response = agent_executor.invoke({\"input\": user_query})\n",
    "        return response['output']\n",
    "    except Exception as e:\n",
    "        return f\"An error occurred during query execution: {e}\"\n"
   ]
  },
  {
   "cell_type": "code",
   "execution_count": 14,
   "id": "3726643c",
   "metadata": {},
   "outputs": [
    {
     "name": "stdout",
     "output_type": "stream",
     "text": [
      "\n",
      "--- Processing User Query: 'whats the benifit of using Medibar Personal Lubricant for Men & Women, Long Lasting Pleasure Lubricant.' ---\n",
      "\n",
      "\n",
      "\u001b[1m> Entering new SQL Agent Executor chain...\u001b[0m\n",
      "\n",
      "💬 Chatbot Response:\n",
      "An error occurred during query execution: An output parsing error occurred. In order to pass this error back to the agent and have it try again, pass `handle_parsing_errors=True` to the AgentExecutor. This is the error: Could not parse LLM output: `That's a great question! Medibar Personal Lubricant, like many personal lubricants, is generally designed to enhance comfort and pleasure during intimate activities.\n",
      "\n",
      "Here are some common benefits of using a personal lubricant:\n",
      "\n",
      "*   **Reduces Friction:** It helps to minimize friction, which can prevent discomfort, irritation, or even minor injuries during intimacy.\n",
      "*   **Enhances Pleasure:** By providing a smooth glide, it can make intimate experiences more enjoyable and comfortable for both partners.\n",
      "*   **Addresses Dryness:** It's particularly helpful for individuals experiencing natural dryness, which can be caused by various factors like stress, medication, hormonal changes, or certain medical conditions.\n",
      "*   **Compatible with Toys:** Many lubricants are safe to use with sex toys, making playtime more comfortable and fun.\n",
      "*   **Long-Lasting Formulas:** Products like the Medibar lubricant, which are described as \"long-lasting,\" are formulated to maintain their slipperiness for an extended period, reducing the need for frequent reapplication.\n",
      "\n",
      "Always check the product's specific ingredients and instructions for use, especially if you have any sensitivities or are using it with condoms (ensure it's condom-compatible, typically water-based or silicone-based lubricants are safe with latex condoms).`\n",
      "For troubleshooting, visit: https://python.langchain.com/docs/troubleshooting/errors/OUTPUT_PARSING_FAILURE \n"
     ]
    }
   ],
   "source": [
    "user_question_1 = \"whats the benifit of using Medibar Personal Lubricant for Men & Women, Long Lasting Pleasure Lubricant.\"\n",
    "answer_1 = get_product_info(user_question_1)\n",
    "print(f\"\\n💬 Chatbot Response:\\n{answer_1}\")\n"
   ]
  },
  {
   "cell_type": "code",
   "execution_count": 15,
   "id": "b114cb17",
   "metadata": {},
   "outputs": [
    {
     "name": "stdout",
     "output_type": "stream",
     "text": [
      "\n",
      "💬 Chatbot Response:\n",
      "An error occurred during query execution: An output parsing error occurred. In order to pass this error back to the agent and have it try again, pass `handle_parsing_errors=True` to the AgentExecutor. This is the error: Could not parse LLM output: `That's a great question! Medibar Personal Lubricant, like many personal lubricants, is generally designed to enhance comfort and pleasure during intimate activities.\n",
      "\n",
      "Here are some common benefits of using a personal lubricant:\n",
      "\n",
      "*   **Reduces Friction:** It helps to minimize friction, which can prevent discomfort, irritation, or even minor injuries during intimacy.\n",
      "*   **Enhances Pleasure:** By providing a smooth glide, it can make intimate experiences more enjoyable and comfortable for both partners.\n",
      "*   **Addresses Dryness:** It's particularly helpful for individuals experiencing natural dryness, which can be caused by various factors like stress, medication, hormonal changes, or certain medical conditions.\n",
      "*   **Compatible with Toys:** Many lubricants are safe to use with sex toys, making playtime more comfortable and fun.\n",
      "*   **Long-Lasting Formulas:** Products like the Medibar lubricant, which are described as \"long-lasting,\" are formulated to maintain their slipperiness for an extended period, reducing the need for frequent reapplication.\n",
      "\n",
      "Always check the product's specific ingredients and instructions for use, especially if you have any sensitivities or are using it with condoms (ensure it's condom-compatible, typically water-based or silicone-based lubricants are safe with latex condoms).`\n",
      "For troubleshooting, visit: https://python.langchain.com/docs/troubleshooting/errors/OUTPUT_PARSING_FAILURE \n"
     ]
    }
   ],
   "source": [
    "print(f\"\\n💬 Chatbot Response:\\n{answer_1}\")"
   ]
  },
  {
   "cell_type": "code",
   "execution_count": 17,
   "id": "e3a90210",
   "metadata": {},
   "outputs": [
    {
     "data": {
      "text/plain": [
       "'That\\'s a great question! Medibar Personal Lubricant, like many personal lubricants, is generally designed to enhance comfort and pleasure during intimate activities.\\n\\nHere are some common benefits of using a personal lubricant:\\n\\n*   Reduces Friction: It helps to minimize friction, which can prevent discomfort, irritation, or even minor injuries during intimacy.\\n*   Enhances Pleasure: By providing a smooth glide, it can make intimate experiences more enjoyable and comfortable for both partners.\\n*   Addresses Dryness: It\\'s particularly helpful for individuals experiencing natural dryness, which can be caused by various factors like stress, medication, hormonal changes, or certain medical conditions.\\n*   Compatible with Toys: Many lubricants are safe to use with sex toys, making playtime more comfortable and fun.\\n*   Long-Lasting Formulas: Products like the Medibar lubricant, which are described as \"long-lasting,\" are formulated to maintain their slipperiness for an extended period, reducing the need for frequent reapplication.\\n\\nAlways check the product\\'s specific ingredients and instructions for use, especially if you have any sensitivities or are using it with condoms (ensure it\\'s condom-compatible, typically water-based or silicone-based lubricants are safe with latex condoms).'"
      ]
     },
     "execution_count": 17,
     "metadata": {},
     "output_type": "execute_result"
    }
   ],
   "source": [
    "system = \"I will give you a query and the chat response in which there will be unwanted text in the response unrelated to the query. Your task is to clean the response and provide only the relevant answer to the query without any unrelated text and without any unwanted symbols like ** or * .\"\n",
    "llm.invoke(system+answer_1).content"
   ]
  },
  {
   "cell_type": "code",
   "execution_count": 18,
   "id": "7da776b4",
   "metadata": {},
   "outputs": [
    {
     "name": "stdout",
     "output_type": "stream",
     "text": [
      "That's a great question! Medibar Personal Lubricant, like many personal lubricants, is generally designed to enhance comfort and pleasure during intimate activities.\n",
      "\n",
      "Here are some common benefits of using a personal lubricant:\n",
      "\n",
      "*   Reduces Friction: It helps to minimize friction, which can prevent discomfort, irritation, or even minor injuries during intimacy.\n",
      "*   Enhances Pleasure: By providing a smooth glide, it can make intimate experiences more enjoyable and comfortable for both partners.\n",
      "*   Addresses Dryness: It's particularly helpful for individuals experiencing natural dryness, which can be caused by various factors like stress, medication, hormonal changes, or certain medical conditions.\n",
      "*   Compatible with Toys: Many lubricants are safe to use with sex toys, making playtime more comfortable and fun.\n",
      "*   Long-Lasting Formulas: Products like the Medibar lubricant, which are described as \"long-lasting,\" are formulated to maintain their slipperiness for an extended period, reducing the need for frequent reapplication.\n",
      "\n",
      "Always check the product's specific ingredients and instructions for use, especially if you have any sensitivities or are using it with condoms (ensure it's condom-compatible, typically water-based or silicone-based lubricants are safe with latex condoms).\n"
     ]
    }
   ],
   "source": [
    "print(llm.invoke(system+answer_1).content)"
   ]
  },
  {
   "cell_type": "code",
   "execution_count": 23,
   "id": "619352fc",
   "metadata": {},
   "outputs": [
    {
     "data": {
      "text/plain": [
       "'Medibar Personal Lubricant, especially with its \"Long Lasting Pleasure\" claim, offers several key benefits for both men and women:\\n\\n1.  **Enhanced Comfort and Reduced Friction:**\\n    *   **Prevents Discomfort:** The primary benefit of any lubricant is to reduce friction during sexual activity. This prevents chafing, irritation, and soreness that can occur due to insufficient natural lubrication.\\n    *   **Smoother Movement:** It allows for more fluid and comfortable movement, making penetration easier and more enjoyable for both partners.\\n\\n2.  **Combats Natural Dryness:**\\n    *   **Addresses Vaginal Dryness:** Many women experience vaginal dryness due to various factors like hormonal changes (menopause, postpartum), certain medications, stress, or even just insufficient arousal. Medibar helps to supplement natural lubrication, making intercourse comfortable and pleasurable again.\\n    *   **For Men:** While less common, some men can also benefit from lubrication, especially during solo play or if their partner experiences dryness.\\n\\n3.  **Prolonged Pleasure and Reduced Interruptions:**\\n    *   **\"Long Lasting\" Advantage:** This is a crucial benefit. Unlike some lubricants that dry out quickly, a long-lasting formula means you won\\'t need to interrupt the moment to reapply. This allows for sustained comfort and pleasure throughout the entire experience.\\n    *   **Maintains Flow:** It helps maintain the rhythm and intimacy without awkward pauses.\\n\\n4.  **Increased Sensation and Enjoyment:**\\n    *   **Focus on Pleasure:** By eliminating discomfort and pain, the lubricant allows both partners to focus entirely on the pleasurable sensations, leading to a more satisfying experience.\\n    *   **Experimentation:** It can make trying new positions or activities (like anal sex, if desired) more comfortable and enjoyable.\\n\\n5.  **Versatility and Compatibility:**\\n    *   **For Solo or Partner Play:** Can be used effectively for masturbation or with a partner.\\n    *   **Toy Friendly:** Most personal lubricants are safe to use with sex toys, enhancing their use. (Always check product specifics for material compatibility, especially with silicone toys).\\n    *   **Condom Compatible:** Assuming it\\'s water-based or silicone-based (most general-purpose lubricants are), it will be safe to use with latex and polyisoprene condoms, adding an extra layer of comfort and safety.\\n\\n6.  **Psychological Benefits:**\\n    *   **Increased Confidence:** Knowing that discomfort won\\'t be an issue can boost confidence and reduce anxiety surrounding sexual activity.\\n    *   **Improved Intimacy:** When physical barriers to pleasure are removed, it can lead to deeper emotional connection and intimacy between partners.\\n\\nIn essence, Medibar Personal Lubricant aims to remove common physical barriers to sexual pleasure, ensuring a more comfortable, enjoyable, and uninterrupted experience for both men and women.'"
      ]
     },
     "execution_count": 23,
     "metadata": {},
     "output_type": "execute_result"
    }
   ],
   "source": [
    "llm.invoke(\"whats the benifit of using Medibar Personal Lubricant for Men & Women, Long Lasting Pleasure Lubricant\").content"
   ]
  },
  {
   "cell_type": "code",
   "execution_count": 19,
   "id": "1e43617f",
   "metadata": {},
   "outputs": [
    {
     "name": "stdout",
     "output_type": "stream",
     "text": [
      "\n",
      "--- Processing User Query: 'Who is elon musk' ---\n",
      "\n",
      "\n",
      "\u001b[1m> Entering new SQL Agent Executor chain...\u001b[0m\n",
      "Elon Musk is a prominent entrepreneur and business magnate. He is the founder, CEO, and chief engineer of SpaceX; angel investor, CEO, and product architect of Tesla, Inc.; owner, chairman, and CTO of X (formerly Twitter); and founder of The Boring Company, xAI, and co-founder of Neuralink and OpenAI. He's known for his ambitious projects in electric vehicles, space exploration, and artificial intelligence.\n"
     ]
    }
   ],
   "source": [
    "user_question_2 = \"Who is elon musk\"\n",
    "answer_2 = get_product_info(user_question_2)\n",
    "system = \"I will give you a query and the chat response in which there will be unwanted text in the response unrelated to the query. Your task is to clean the response and provide only the relevant answer to the query without any unrelated text and without any unwanted symbols like ** or * .\"\n",
    "print(llm.invoke(system+answer_2).content)"
   ]
  },
  {
   "cell_type": "code",
   "execution_count": null,
   "id": "3533deda",
   "metadata": {},
   "outputs": [],
   "source": []
  }
 ],
 "metadata": {
  "kernelspec": {
   "display_name": "Python 3",
   "language": "python",
   "name": "python3"
  },
  "language_info": {
   "codemirror_mode": {
    "name": "ipython",
    "version": 3
   },
   "file_extension": ".py",
   "mimetype": "text/x-python",
   "name": "python",
   "nbconvert_exporter": "python",
   "pygments_lexer": "ipython3",
   "version": "3.10.0"
  }
 },
 "nbformat": 4,
 "nbformat_minor": 5
}
